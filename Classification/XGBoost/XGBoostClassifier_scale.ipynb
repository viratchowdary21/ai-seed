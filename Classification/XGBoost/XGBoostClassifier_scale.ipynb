{
  "nbformat": 4,
  "nbformat_minor": 0,
  "metadata": {
    "interpreter": {
      "hash": "51a9663a131f1b5758c45b97a2d6917c8ae86b33e231c3733631cbc7265cfc89"
    },
    "kernelspec": {
      "display_name": "Python 3",
      "language": "python",
      "name": "python3"
    },
    "language_info": {
      "codemirror_mode": {
        "name": "ipython",
        "version": 3
      },
      "file_extension": ".py",
      "mimetype": "text/x-python",
      "name": "python",
      "nbconvert_exporter": "python",
      "pygments_lexer": "ipython3",
      "version": "3.8.6"
    },
    "colab": {
      "name": "XGBoostClassifier_scale.ipynb",
      "provenance": [],
      "collapsed_sections": []
    }
  },
  "cells": [
    {
      "cell_type": "markdown",
      "metadata": {
        "id": "qw-3zVyjI8c1"
      },
      "source": [
        "#  XGBoostClassifier with scale"
      ]
    },
    {
      "cell_type": "markdown",
      "metadata": {
        "id": "jAxm5M3NOwLL"
      },
      "source": [
        "This Code template is for classification analysis using the XGBoost Classifier where rescaling method used is scale.\n"
      ]
    },
    {
      "cell_type": "markdown",
      "metadata": {
        "id": "VU9LuzqMPGMw"
      },
      "source": [
        "### Required Packages"
      ]
    },
    {
      "cell_type": "code",
      "metadata": {
        "id": "Cf2KNVaWI8c8"
      },
      "source": [
        "import numpy as np\n",
        "import pandas as pd\n",
        "import seaborn as se\n",
        "import warnings\n",
        "import matplotlib.pyplot as plt\n",
        "from sklearn.model_selection import train_test_split\n",
        "from xgboost import XGBClassifier\n",
        "from imblearn.over_sampling import RandomOverSampler\n",
        "from sklearn.preprocessing import scale \n",
        "from sklearn.metrics import classification_report,plot_confusion_matrix\n",
        "warnings.filterwarnings('ignore')"
      ],
      "execution_count": null,
      "outputs": []
    },
    {
      "cell_type": "markdown",
      "metadata": {
        "id": "lFykDmJII8c9"
      },
      "source": [
        "### Initialization\n",
        "Filepath of CSV file"
      ]
    },
    {
      "cell_type": "code",
      "metadata": {
        "id": "tO2uUlukI8c-"
      },
      "source": [
        "#filepath\n",
        "file_path= \"\""
      ],
      "execution_count": null,
      "outputs": []
    },
    {
      "cell_type": "markdown",
      "metadata": {
        "id": "XAJDKzqXI8c_"
      },
      "source": [
        "List of features which are  required for model training."
      ]
    },
    {
      "cell_type": "code",
      "metadata": {
        "id": "-jzGscQhI8c_"
      },
      "source": [
        "#x_values\n",
        "features=[]"
      ],
      "execution_count": null,
      "outputs": []
    },
    {
      "cell_type": "markdown",
      "metadata": {
        "id": "6DFzqbb3I8dA"
      },
      "source": [
        "Target feature for prediction."
      ]
    },
    {
      "cell_type": "code",
      "metadata": {
        "id": "bqjRo4AWI8dB"
      },
      "source": [
        "#y_value\n",
        "target=''"
      ],
      "execution_count": null,
      "outputs": []
    },
    {
      "cell_type": "markdown",
      "metadata": {
        "id": "fqv7RkeKI8dC"
      },
      "source": [
        "### Data Fetching\n",
        "\n",
        "Pandas is an open-source, BSD-licensed library providing high-performance, easy-to-use data manipulation and data analysis tools.\n",
        "\n",
        "We will use panda's library to read the CSV file using its storage path.And we use the head function to display the initial row or entry."
      ]
    },
    {
      "cell_type": "code",
      "metadata": {
        "id": "sDuo2DzBI8dD",
        "colab": {
          "base_uri": "https://localhost:8080/",
          "height": 203
        },
        "outputId": "f1e9cf41-6b71-4a28-8a04-7fb62ba909b9"
      },
      "source": [
        "df=pd.read_csv(file_path)\n",
        "df.head()"
      ],
      "execution_count": null,
      "outputs": [
        {
          "output_type": "execute_result",
          "data": {
            "text/html": [
              "<div>\n",
              "<style scoped>\n",
              "    .dataframe tbody tr th:only-of-type {\n",
              "        vertical-align: middle;\n",
              "    }\n",
              "\n",
              "    .dataframe tbody tr th {\n",
              "        vertical-align: top;\n",
              "    }\n",
              "\n",
              "    .dataframe thead th {\n",
              "        text-align: right;\n",
              "    }\n",
              "</style>\n",
              "<table border=\"1\" class=\"dataframe\">\n",
              "  <thead>\n",
              "    <tr style=\"text-align: right;\">\n",
              "      <th></th>\n",
              "      <th>User ID</th>\n",
              "      <th>Gender</th>\n",
              "      <th>Age</th>\n",
              "      <th>EstimatedSalary</th>\n",
              "      <th>Purchased</th>\n",
              "    </tr>\n",
              "  </thead>\n",
              "  <tbody>\n",
              "    <tr>\n",
              "      <th>0</th>\n",
              "      <td>15624510</td>\n",
              "      <td>Male</td>\n",
              "      <td>19</td>\n",
              "      <td>19000</td>\n",
              "      <td>0</td>\n",
              "    </tr>\n",
              "    <tr>\n",
              "      <th>1</th>\n",
              "      <td>15810944</td>\n",
              "      <td>Male</td>\n",
              "      <td>35</td>\n",
              "      <td>20000</td>\n",
              "      <td>0</td>\n",
              "    </tr>\n",
              "    <tr>\n",
              "      <th>2</th>\n",
              "      <td>15668575</td>\n",
              "      <td>Female</td>\n",
              "      <td>26</td>\n",
              "      <td>43000</td>\n",
              "      <td>0</td>\n",
              "    </tr>\n",
              "    <tr>\n",
              "      <th>3</th>\n",
              "      <td>15603246</td>\n",
              "      <td>Female</td>\n",
              "      <td>27</td>\n",
              "      <td>57000</td>\n",
              "      <td>0</td>\n",
              "    </tr>\n",
              "    <tr>\n",
              "      <th>4</th>\n",
              "      <td>15804002</td>\n",
              "      <td>Male</td>\n",
              "      <td>19</td>\n",
              "      <td>76000</td>\n",
              "      <td>0</td>\n",
              "    </tr>\n",
              "  </tbody>\n",
              "</table>\n",
              "</div>"
            ],
            "text/plain": [
              "    User ID  Gender  Age  EstimatedSalary  Purchased\n",
              "0  15624510    Male   19            19000          0\n",
              "1  15810944    Male   35            20000          0\n",
              "2  15668575  Female   26            43000          0\n",
              "3  15603246  Female   27            57000          0\n",
              "4  15804002    Male   19            76000          0"
            ]
          },
          "metadata": {},
          "execution_count": 5
        }
      ]
    },
    {
      "cell_type": "markdown",
      "metadata": {
        "id": "MXsFAFHWI8dF"
      },
      "source": [
        "### Feature Selections\n",
        "\n",
        "It is the process of reducing the number of input variables when developing a predictive model. Used to reduce the number of input variables to both reduce the computational cost of modelling and, in some cases, to improve the performance of the model.\n",
        "\n",
        "We will assign all the required input features to X and target/outcome to Y."
      ]
    },
    {
      "cell_type": "code",
      "metadata": {
        "id": "arW9ZJsGI8dG"
      },
      "source": [
        "X=df[features]\n",
        "Y=df[target]"
      ],
      "execution_count": null,
      "outputs": []
    },
    {
      "cell_type": "markdown",
      "metadata": {
        "id": "Nd5lLS_gI8dG"
      },
      "source": [
        "### Data Preprocessing\n",
        "\n",
        "Since the majority of the machine learning models in the Sklearn library doesn't handle string category data and Null value, we have to explicitly remove or replace null values. The below snippet have functions, which removes the null value if any exists. And convert the string classes data in the datasets by encoding them to integer classes.\n"
      ]
    },
    {
      "cell_type": "code",
      "metadata": {
        "id": "baDl1Fx8I8dH"
      },
      "source": [
        "def NullClearner(df):\n",
        "    if(isinstance(df, pd.Series) and (df.dtype in [\"float64\",\"int64\"])):\n",
        "        df.fillna(df.mean(),inplace=True)\n",
        "        return df\n",
        "    elif(isinstance(df, pd.Series)):\n",
        "        df.fillna(df.mode()[0],inplace=True)\n",
        "        return df\n",
        "    else:return df\n",
        "def EncodeX(df):\n",
        "    return pd.get_dummies(df)"
      ],
      "execution_count": null,
      "outputs": []
    },
    {
      "cell_type": "markdown",
      "metadata": {
        "id": "6WPtP4w1I8dH"
      },
      "source": [
        "Calling preprocessing functions on the feature and target set.\n"
      ]
    },
    {
      "cell_type": "code",
      "metadata": {
        "id": "qR1kiLwoI8dI",
        "colab": {
          "base_uri": "https://localhost:8080/",
          "height": 203
        },
        "outputId": "0fa2eeaf-9958-4616-bb2d-7690982064b4"
      },
      "source": [
        "x=X.columns.to_list()\n",
        "for i in x:\n",
        "    X[i]=NullClearner(X[i])\n",
        "X=EncodeX(X)\n",
        "Y=NullClearner(Y)\n",
        "X.head()"
      ],
      "execution_count": null,
      "outputs": [
        {
          "output_type": "execute_result",
          "data": {
            "text/html": [
              "<div>\n",
              "<style scoped>\n",
              "    .dataframe tbody tr th:only-of-type {\n",
              "        vertical-align: middle;\n",
              "    }\n",
              "\n",
              "    .dataframe tbody tr th {\n",
              "        vertical-align: top;\n",
              "    }\n",
              "\n",
              "    .dataframe thead th {\n",
              "        text-align: right;\n",
              "    }\n",
              "</style>\n",
              "<table border=\"1\" class=\"dataframe\">\n",
              "  <thead>\n",
              "    <tr style=\"text-align: right;\">\n",
              "      <th></th>\n",
              "      <th>User ID</th>\n",
              "      <th>Age</th>\n",
              "      <th>EstimatedSalary</th>\n",
              "      <th>Gender_Female</th>\n",
              "      <th>Gender_Male</th>\n",
              "    </tr>\n",
              "  </thead>\n",
              "  <tbody>\n",
              "    <tr>\n",
              "      <th>0</th>\n",
              "      <td>15624510</td>\n",
              "      <td>19</td>\n",
              "      <td>19000</td>\n",
              "      <td>0</td>\n",
              "      <td>1</td>\n",
              "    </tr>\n",
              "    <tr>\n",
              "      <th>1</th>\n",
              "      <td>15810944</td>\n",
              "      <td>35</td>\n",
              "      <td>20000</td>\n",
              "      <td>0</td>\n",
              "      <td>1</td>\n",
              "    </tr>\n",
              "    <tr>\n",
              "      <th>2</th>\n",
              "      <td>15668575</td>\n",
              "      <td>26</td>\n",
              "      <td>43000</td>\n",
              "      <td>1</td>\n",
              "      <td>0</td>\n",
              "    </tr>\n",
              "    <tr>\n",
              "      <th>3</th>\n",
              "      <td>15603246</td>\n",
              "      <td>27</td>\n",
              "      <td>57000</td>\n",
              "      <td>1</td>\n",
              "      <td>0</td>\n",
              "    </tr>\n",
              "    <tr>\n",
              "      <th>4</th>\n",
              "      <td>15804002</td>\n",
              "      <td>19</td>\n",
              "      <td>76000</td>\n",
              "      <td>0</td>\n",
              "      <td>1</td>\n",
              "    </tr>\n",
              "  </tbody>\n",
              "</table>\n",
              "</div>"
            ],
            "text/plain": [
              "    User ID  Age  EstimatedSalary  Gender_Female  Gender_Male\n",
              "0  15624510   19            19000              0            1\n",
              "1  15810944   35            20000              0            1\n",
              "2  15668575   26            43000              1            0\n",
              "3  15603246   27            57000              1            0\n",
              "4  15804002   19            76000              0            1"
            ]
          },
          "metadata": {},
          "execution_count": 10
        }
      ]
    },
    {
      "cell_type": "markdown",
      "metadata": {
        "id": "lSMfmgUiI8dJ"
      },
      "source": [
        "#### Correlation Map\n",
        "\n",
        "In order to check the correlation between the features, we will plot a correlation matrix. It is effective in summarizing a large amount of data where the goal is to see patterns."
      ]
    },
    {
      "cell_type": "code",
      "metadata": {
        "id": "N3MzDudTI8dJ",
        "colab": {
          "base_uri": "https://localhost:8080/",
          "height": 1000
        },
        "outputId": "2f8c7d32-2719-451b-d221-fbfa889889c4"
      },
      "source": [
        "f,ax = plt.subplots(figsize=(18, 18))\n",
        "matrix = np.triu(X.corr())\n",
        "se.heatmap(X.corr(), annot=True, linewidths=.5, fmt= '.1f',ax=ax, mask=matrix)\n",
        "plt.show()"
      ],
      "execution_count": null,
      "outputs": [
        {
          "output_type": "display_data",
          "data": {
            "image/png": "[encoded data removed]",
            "text/plain": [
              "<Figure size 1296x1296 with 2 Axes>"
            ]
          },
          "metadata": {
            "needs_background": "light"
          }
        }
      ]
    },
    {
      "cell_type": "markdown",
      "metadata": {
        "id": "BCzPWpndI8dK"
      },
      "source": [
        "### Data Splitting\n",
        "\n",
        "The train-test split is a procedure for evaluating the performance of an algorithm. The procedure involves taking a dataset and dividing it into two subsets. The first subset is utilized to fit/train the model. The second subset is used for prediction. The main motive is to estimate the performance of the model on new data."
      ]
    },
    {
      "cell_type": "code",
      "metadata": {
        "id": "sDBwqB_iI8dL"
      },
      "source": [
        "x_train,x_test,y_train,y_test=train_test_split(X,Y,test_size=0.2,random_state=123)"
      ],
      "execution_count": null,
      "outputs": []
    },
    {
      "cell_type": "markdown",
      "metadata": {
        "id": "M8rhL5e2ukyI"
      },
      "source": [
        "### Data Rescaling\n"
      ]
    },
    {
      "cell_type": "markdown",
      "metadata": {
        "id": "jgokMbG5uhCX"
      },
      "source": [
        "\n",
        "Sklearn Scale standardized datasets across any axis. Center to the mean and component-wise scale to unit variance.\n",
        "\n",
        "[Scale](https://scikit-learn.org/stable/modules/generated/sklearn.preprocessing.scale.html)"
      ]
    },
    {
      "cell_type": "code",
      "metadata": {
        "id": "nIPKWw_7-fJW"
      },
      "source": [
        "x_scale = scale()\n",
        "x_train = x_scale.fit_transform(x_train)\n",
        "x_test = x_scale.transform(x_test)"
      ],
      "execution_count": null,
      "outputs": []
    },
    {
      "cell_type": "markdown",
      "metadata": {
        "id": "RRrPwxRW8PCU"
      },
      "source": [
        "###Model\n",
        "XGBoost is an optimized distributed gradient boosting library designed to be highly efficient, flexible and portable. It implements machine learning algorithms under the Gradient Boosting framework. XGBoost provides a parallel tree boosting (also known as GBDT, GBM) that solve many data science problems in a fast and accurate way.\n",
        "\n",
        "####Model Tuning Parameters:\n",
        "\n",
        "**n_estimators** -> Number of gradient boosted trees. Equivalent to number of boosting rounds.\n",
        "\n",
        "**max_depth** -> Maximum tree depth for base learners.\n",
        "\n",
        "**objective** -> Specify the learning task and the corresponding learning objective or a custom objective function to be used.\n",
        "\n",
        "**tree_method** -> Specify which tree method to use. Default to auto. If this parameter is set to default, XGBoost will choose the most conservative option available.\n",
        "\n",
        "**n_jobs** -> Number of parallel threads used to run xgboost. When used with other Scikit-Learn algorithms like grid search, you may choose which algorithm to parallelize and balance the threads. Creating thread contention will significantly slow down both algorithms."
      ]
    },
    {
      "cell_type": "code",
      "metadata": {
        "id": "vjQa0UjOulBw",
        "colab": {
          "base_uri": "https://localhost:8080/"
        },
        "outputId": "e4047120-6358-4bc1-893c-8ca906a2ebbf"
      },
      "source": [
        "model=XGBClassifier()\n",
        "model.fit(x_train,y_train)"
      ],
      "execution_count": null,
      "outputs": [
        {
          "output_type": "execute_result",
          "data": {
            "text/plain": [
              "XGBClassifier(base_score=0.5, booster='gbtree', colsample_bylevel=1,\n",
              "              colsample_bynode=1, colsample_bytree=1, gamma=0,\n",
              "              learning_rate=0.1, max_delta_step=0, max_depth=3,\n",
              "              min_child_weight=1, missing=None, n_estimators=100, n_jobs=1,\n",
              "              nthread=None, objective='binary:logistic', random_state=0,\n",
              "              reg_alpha=0, reg_lambda=1, scale_pos_weight=1, seed=None,\n",
              "              silent=None, subsample=1, verbosity=1)"
            ]
          },
          "metadata": {},
          "execution_count": 14
        }
      ]
    },
    {
      "cell_type": "markdown",
      "metadata": {
        "id": "IF1ERs_jI8dN"
      },
      "source": [
        "#### Model Accuracy\n",
        "\n",
        "We will use the trained model to make a prediction on the test set.Then use the predicted value for measuring the accuracy of our model.\n",
        "\n",
        "score: The score function returns the coefficient of determination R2 of the prediction.\n",
        "\n"
      ]
    },
    {
      "cell_type": "code",
      "metadata": {
        "id": "2EVdoyqyI8dN",
        "colab": {
          "base_uri": "https://localhost:8080/"
        },
        "outputId": "5f0989f2-ff7d-4fd8-c2b5-d2415dd2ec8f"
      },
      "source": [
        "print(\"Accuracy score {:.2f} %\\n\".format(model.score(x_test,y_test)*100))"
      ],
      "execution_count": null,
      "outputs": [
        {
          "output_type": "stream",
          "name": "stdout",
          "text": [
            "Accuracy score 87.50 %\n",
            "\n"
          ]
        }
      ]
    },
    {
      "cell_type": "markdown",
      "metadata": {
        "id": "Tq4WUuhpI8dN"
      },
      "source": [
        "> **r2_score**: The **r2_score** function computes the percentage variablility explained by our model, either the fraction or the count of correct predictions.  \n",
        "\n",
        "> **mae**: The **mean abosolute error** function calculates the amount of total error(absolute average distance between the real data and the predicted data) by our model.  \n",
        "\n",
        "> **mse**: The **mean squared error** function squares the error(penalizes the model for large errors) by our model. "
      ]
    },
    {
      "cell_type": "code",
      "metadata": {
        "id": "6bcfLtmvI8dO",
        "colab": {
          "base_uri": "https://localhost:8080/",
          "height": 296
        },
        "outputId": "54557f1b-c5fc-49c4-cf69-f0fba1cb6d5d"
      },
      "source": [
        "plot_confusion_matrix(model,x_test,y_test,cmap=plt.cm.Blues)"
      ],
      "execution_count": null,
      "outputs": [
        {
          "output_type": "execute_result",
          "data": {
            "text/plain": [
              "<sklearn.metrics._plot.confusion_matrix.ConfusionMatrixDisplay at 0x7f1ec0b42690>"
            ]
          },
          "metadata": {},
          "execution_count": 16
        },
        {
          "output_type": "display_data",
          "data": {
            "image/png": "[encoded data removed]",
            "text/plain": [
              "<Figure size 432x288 with 2 Axes>"
            ]
          },
          "metadata": {
            "needs_background": "light"
          }
        }
      ]
    },
    {
      "cell_type": "markdown",
      "metadata": {
        "id": "UJ2XyLgoI8dO"
      },
      "source": [
        "#### Prediction Plot\n",
        "\n",
        "First, we make use of a plot to plot the actual observations, with x_train on the x-axis and y_train on the y-axis.\n",
        "For the regression line, we will use x_train on the x-axis and then the predictions of the x_train observations on the y-axis."
      ]
    },
    {
      "cell_type": "code",
      "metadata": {
        "id": "MYStajl_I8dO",
        "colab": {
          "base_uri": "https://localhost:8080/"
        },
        "outputId": "98d75bfd-eff1-4c82-dabe-37eb401d91cb"
      },
      "source": [
        "print(classification_report(y_test,model.predict(x_test)))"
      ],
      "execution_count": null,
      "outputs": [
        {
          "output_type": "stream",
          "name": "stdout",
          "text": [
            "              precision    recall  f1-score   support\n",
            "\n",
            "           0       0.92      0.88      0.90        50\n",
            "           1       0.81      0.87      0.84        30\n",
            "\n",
            "    accuracy                           0.88        80\n",
            "   macro avg       0.86      0.87      0.87        80\n",
            "weighted avg       0.88      0.88      0.88        80\n",
            "\n"
          ]
        }
      ]
    },
    {
      "cell_type": "markdown",
      "metadata": {
        "id": "l1Wu5fomgmu0"
      },
      "source": [
        "**creator: Virat Chowdary, GitHub: [profile](https://github.com/viratchowdary21)**\n"
      ]
    }
  ]
}